{
  "nbformat": 4,
  "nbformat_minor": 0,
  "metadata": {
    "colab": {
      "provenance": [],
      "machine_shape": "hm",
      "gpuType": "T4"
    },
    "kernelspec": {
      "name": "python3",
      "display_name": "Python 3"
    },
    "language_info": {
      "name": "python"
    },
    "accelerator": "GPU"
  },
  "cells": [
    {
      "cell_type": "code",
      "execution_count": 21,
      "metadata": {
        "colab": {
          "base_uri": "https://localhost:8080/"
        },
        "id": "73sFPuXSPk96",
        "outputId": "741d9223-2f40-4f4d-9300-688ea4d133ca"
      },
      "outputs": [
        {
          "output_type": "stream",
          "name": "stdout",
          "text": [
            "         Date  Price   Open   High    Low     Vol. Change %\n",
            "0  12/06/2024  67.20  68.44  68.49  66.98      NaN   -1.61%\n",
            "1  12/05/2024  68.30  68.74  69.16  67.98  286.70K   -0.35%\n",
            "2  12/04/2024  68.54  70.02  70.51  68.49  325.64K   -2.00%\n",
            "3  12/03/2024  69.94  68.16  70.23  67.91  303.75K    2.70%\n",
            "4  12/02/2024  68.10  68.00  69.11  67.71  264.88K    0.15%\n"
          ]
        }
      ],
      "source": [
        "import pandas as pd\n",
        "import numpy as np\n",
        "\n",
        "# Load the dataset\n",
        "file_path = \"/content/sample_data/oil_data.csv\"  # Adjust the path as needed\n",
        "data = pd.read_csv(file_path)\n",
        "\n",
        "# Display the first few rows\n",
        "print(data.head())\n"
      ]
    },
    {
      "cell_type": "code",
      "source": [
        "# Convert 'Date' column to datetime format\n",
        "data['Date'] = pd.to_datetime(data['Date'])\n",
        "# Display the updated DataFrame (optional)\n",
        "print(data.head())\n"
      ],
      "metadata": {
        "colab": {
          "base_uri": "https://localhost:8080/"
        },
        "id": "xAMcyUbUP_UB",
        "outputId": "d0f7fe79-9ca4-42f6-fa20-b2c5749d9835"
      },
      "execution_count": 22,
      "outputs": [
        {
          "output_type": "stream",
          "name": "stdout",
          "text": [
            "        Date  Price   Open   High    Low     Vol. Change %\n",
            "0 2024-12-06  67.20  68.44  68.49  66.98      NaN   -1.61%\n",
            "1 2024-12-05  68.30  68.74  69.16  67.98  286.70K   -0.35%\n",
            "2 2024-12-04  68.54  70.02  70.51  68.49  325.64K   -2.00%\n",
            "3 2024-12-03  69.94  68.16  70.23  67.91  303.75K    2.70%\n",
            "4 2024-12-02  68.10  68.00  69.11  67.71  264.88K    0.15%\n"
          ]
        }
      ]
    },
    {
      "cell_type": "code",
      "source": [
        "# Sort by date in ascending order\n",
        "data = data.sort_values(by='Date').reset_index(drop=True)\n",
        "print(data.head())"
      ],
      "metadata": {
        "colab": {
          "base_uri": "https://localhost:8080/"
        },
        "id": "VBXxqoODQLsx",
        "outputId": "e90b685b-e0ff-4d39-a6d8-65b680bab990"
      },
      "execution_count": 23,
      "outputs": [
        {
          "output_type": "stream",
          "name": "stdout",
          "text": [
            "        Date  Price   Open   High    Low     Vol. Change %\n",
            "0 2014-01-01  98.70  98.61  98.76  98.54      NaN    0.28%\n",
            "1 2014-01-02  95.44  98.50  98.97  95.34  251.25K   -3.30%\n",
            "2 2014-01-03  93.96  95.47  95.74  93.86  215.52K   -1.55%\n",
            "3 2014-01-06  93.43  94.18  94.59  93.20  189.38K   -0.56%\n",
            "4 2014-01-07  93.67  93.60  94.22  93.35  177.18K    0.26%\n"
          ]
        }
      ]
    },
    {
      "cell_type": "code",
      "source": [
        "# Function to convert volume strings to numeric values\n",
        "def convert_volume(vol):\n",
        "    if isinstance(vol, str):\n",
        "        if 'K' in vol:\n",
        "            return float(vol.replace('K', '')) * 1e3\n",
        "        elif 'M' in vol:\n",
        "            return float(vol.replace('M', '')) * 1e6\n",
        "    return float(vol)  # Handle cases where no suffix is present\n",
        "\n",
        "# Apply the conversion function to the 'Vol.' column\n",
        "data['Volume'] = data['Vol.'].apply(convert_volume)\n",
        "\n",
        "# Drop the original 'Vol.' column if no longer needed\n",
        "data = data.drop(columns=['Vol.'])\n",
        "\n",
        "# Check the result\n",
        "print(data[['Date', 'Volume']].head())\n"
      ],
      "metadata": {
        "colab": {
          "base_uri": "https://localhost:8080/"
        },
        "id": "WvD6-xJsROnN",
        "outputId": "2ddc646b-c31f-4036-9007-65d49fa06135"
      },
      "execution_count": 24,
      "outputs": [
        {
          "output_type": "stream",
          "name": "stdout",
          "text": [
            "        Date    Volume\n",
            "0 2014-01-01       NaN\n",
            "1 2014-01-02  251250.0\n",
            "2 2014-01-03  215520.0\n",
            "3 2014-01-06  189380.0\n",
            "4 2014-01-07  177180.0\n"
          ]
        }
      ]
    },
    {
      "cell_type": "code",
      "source": [
        "\n",
        "# Compute daily log returns\n",
        "data['Log_Returns'] = np.log(data['Price'] / data['Price'].shift(1))\n",
        "\n",
        "# Drop the first row with NaN from the log return calculation\n",
        "data = data.dropna(subset=['Log_Returns']).reset_index(drop=True)\n"
      ],
      "metadata": {
        "colab": {
          "base_uri": "https://localhost:8080/"
        },
        "id": "6yvjZAyJRUaz",
        "outputId": "52e8ef91-009a-4af3-cbee-d6c3c6df0c71"
      },
      "execution_count": 25,
      "outputs": [
        {
          "output_type": "stream",
          "name": "stderr",
          "text": [
            "/usr/local/lib/python3.10/dist-packages/pandas/core/arraylike.py:399: RuntimeWarning: invalid value encountered in log\n",
            "  result = getattr(ufunc, method)(*inputs, **kwargs)\n"
          ]
        }
      ]
    },
    {
      "cell_type": "code",
      "source": [
        "print(data.head())"
      ],
      "metadata": {
        "colab": {
          "base_uri": "https://localhost:8080/"
        },
        "id": "P9DAd45tRsro",
        "outputId": "70d83315-9ba1-4bc5-b1af-98866b6c6453"
      },
      "execution_count": 26,
      "outputs": [
        {
          "output_type": "stream",
          "name": "stdout",
          "text": [
            "        Date  Price   Open   High    Low Change %    Volume  Log_Returns\n",
            "0 2014-01-02  95.44  98.50  98.97  95.34   -3.30%  251250.0    -0.033587\n",
            "1 2014-01-03  93.96  95.47  95.74  93.86   -1.55%  215520.0    -0.015629\n",
            "2 2014-01-06  93.43  94.18  94.59  93.20   -0.56%  189380.0    -0.005657\n",
            "3 2014-01-07  93.67  93.60  94.22  93.35    0.26%  177180.0     0.002565\n",
            "4 2014-01-08  92.33  93.96  94.18  92.26   -1.43%  244860.0    -0.014409\n"
          ]
        }
      ]
    },
    {
      "cell_type": "code",
      "source": [
        "# Compute 7-day realized volatility\n",
        "data['Realized_Volatility'] = data['Log_Returns'].rolling(window=7).std()\n",
        "\n",
        "# Drop rows with NaN values from rolling calculation\n",
        "data = data.dropna(subset=['Realized_Volatility']).reset_index(drop=True)\n",
        "\n",
        "print(data.head())"
      ],
      "metadata": {
        "colab": {
          "base_uri": "https://localhost:8080/"
        },
        "id": "yheNAuFQRvwP",
        "outputId": "f5c46e26-89f1-4625-d98d-7921d58ca9dd"
      },
      "execution_count": 27,
      "outputs": [
        {
          "output_type": "stream",
          "name": "stdout",
          "text": [
            "        Date  Price   Open   High    Low Change %    Volume  Log_Returns  \\\n",
            "0 2014-01-10  92.72  92.30  93.38  91.99    1.16%  255990.0     0.011498   \n",
            "1 2014-01-13  91.80  92.83  92.88  91.43   -0.99%  212210.0    -0.009972   \n",
            "2 2014-01-14  92.59  91.51  92.88  91.50    0.86%  243470.0     0.008569   \n",
            "3 2014-01-15  94.17  92.65  94.64  92.43    1.71%  263300.0     0.016921   \n",
            "4 2014-01-16  93.96  94.29  94.64  93.60   -0.22%  165140.0    -0.002232   \n",
            "\n",
            "   Realized_Volatility  \n",
            "0             0.014409  \n",
            "1             0.009653  \n",
            "2             0.009777  \n",
            "3             0.011900  \n",
            "4             0.011942  \n"
          ]
        }
      ]
    },
    {
      "cell_type": "code",
      "source": [
        "# 7-day moving average of Price\n",
        "data['Moving_Avg_7'] = data['Price'].rolling(window=7).mean()\n",
        "\n",
        "print(data.head())"
      ],
      "metadata": {
        "colab": {
          "base_uri": "https://localhost:8080/"
        },
        "id": "VRM72ounR1IB",
        "outputId": "a3608196-98b6-4d24-8692-29ac96335c30"
      },
      "execution_count": 28,
      "outputs": [
        {
          "output_type": "stream",
          "name": "stdout",
          "text": [
            "        Date  Price   Open   High    Low Change %    Volume  Log_Returns  \\\n",
            "0 2014-01-10  92.72  92.30  93.38  91.99    1.16%  255990.0     0.011498   \n",
            "1 2014-01-13  91.80  92.83  92.88  91.43   -0.99%  212210.0    -0.009972   \n",
            "2 2014-01-14  92.59  91.51  92.88  91.50    0.86%  243470.0     0.008569   \n",
            "3 2014-01-15  94.17  92.65  94.64  92.43    1.71%  263300.0     0.016921   \n",
            "4 2014-01-16  93.96  94.29  94.64  93.60   -0.22%  165140.0    -0.002232   \n",
            "\n",
            "   Realized_Volatility  Moving_Avg_7  \n",
            "0             0.014409           NaN  \n",
            "1             0.009653           NaN  \n",
            "2             0.009777           NaN  \n",
            "3             0.011900           NaN  \n",
            "4             0.011942           NaN  \n"
          ]
        }
      ]
    },
    {
      "cell_type": "code",
      "source": [
        "def compute_rsi(data, window=14):\n",
        "    delta = data['Price'].diff()\n",
        "    gain = np.where(delta > 0, delta, 0)\n",
        "    loss = np.where(delta < 0, -delta, 0)\n",
        "\n",
        "    avg_gain = pd.Series(gain).rolling(window=window).mean()\n",
        "    avg_loss = pd.Series(loss).rolling(window=window).mean()\n",
        "\n",
        "    rs = avg_gain / avg_loss\n",
        "    rsi = 100 - (100 / (1 + rs))\n",
        "    return rsi\n",
        "\n",
        "# Add RSI to the dataset (14-day window)\n",
        "data['RSI_14'] = compute_rsi(data, window=14)\n",
        "\n",
        "print(data)\n"
      ],
      "metadata": {
        "colab": {
          "base_uri": "https://localhost:8080/"
        },
        "id": "wvMxLBfkSF-Q",
        "outputId": "63d19cbc-3579-4a0f-861b-a3a4e3caa142"
      },
      "execution_count": 29,
      "outputs": [
        {
          "output_type": "stream",
          "name": "stdout",
          "text": [
            "           Date  Price   Open   High    Low Change %    Volume  Log_Returns  \\\n",
            "0    2014-01-10  92.72  92.30  93.38  91.99    1.16%  255990.0     0.011498   \n",
            "1    2014-01-13  91.80  92.83  92.88  91.43   -0.99%  212210.0    -0.009972   \n",
            "2    2014-01-14  92.59  91.51  92.88  91.50    0.86%  243470.0     0.008569   \n",
            "3    2014-01-15  94.17  92.65  94.64  92.43    1.71%  263300.0     0.016921   \n",
            "4    2014-01-16  93.96  94.29  94.64  93.60   -0.22%  165140.0    -0.002232   \n",
            "...         ...    ...    ...    ...    ...      ...       ...          ...   \n",
            "2865 2024-12-02  68.10  68.00  69.11  67.71    0.15%  264880.0     0.001470   \n",
            "2866 2024-12-03  69.94  68.16  70.23  67.91    2.70%  303750.0     0.026661   \n",
            "2867 2024-12-04  68.54  70.02  70.51  68.49   -2.00%  325640.0    -0.020220   \n",
            "2868 2024-12-05  68.30  68.74  69.16  67.98   -0.35%  286700.0    -0.003508   \n",
            "2869 2024-12-06  67.20  68.44  68.49  66.98   -1.61%       NaN    -0.016237   \n",
            "\n",
            "      Realized_Volatility  Moving_Avg_7     RSI_14  \n",
            "0                0.014409           NaN        NaN  \n",
            "1                0.009653           NaN        NaN  \n",
            "2                0.009777           NaN        NaN  \n",
            "3                0.011900           NaN        NaN  \n",
            "4                0.011942           NaN        NaN  \n",
            "...                   ...           ...        ...  \n",
            "2865             0.017089     69.124286  50.274223  \n",
            "2866             0.019004     69.101429  57.165354  \n",
            "2867             0.018722     68.715714  50.398840  \n",
            "2868             0.014371     68.624286  48.546512  \n",
            "2869             0.015454     68.400000  50.682853  \n",
            "\n",
            "[2870 rows x 11 columns]\n"
          ]
        }
      ]
    },
    {
      "cell_type": "code",
      "source": [
        "from sklearn.preprocessing import MinMaxScaler\n",
        "\n",
        "# Select features to scale\n",
        "features_to_scale = ['Log_Returns', 'Realized_Volatility', 'Moving_Avg_7', 'RSI_14']\n",
        "features_to_scale.append('Volume')\n",
        "\n",
        "scaler = MinMaxScaler()\n",
        "\n",
        "# Scale the selected features\n",
        "data[features_to_scale] = scaler.fit_transform(data[features_to_scale])\n",
        "\n",
        "print(data.head())"
      ],
      "metadata": {
        "colab": {
          "base_uri": "https://localhost:8080/"
        },
        "id": "shvN55nrSTNE",
        "outputId": "2348158b-e88e-49d5-b7c9-fc14fb18f67f"
      },
      "execution_count": 30,
      "outputs": [
        {
          "output_type": "stream",
          "name": "stdout",
          "text": [
            "        Date  Price   Open   High    Low Change %    Volume  Log_Returns  \\\n",
            "0 2014-01-10  92.72  92.30  93.38  91.99    1.16%  0.136322     0.488011   \n",
            "1 2014-01-13  91.80  92.83  92.88  91.43   -0.99%  0.111348     0.452337   \n",
            "2 2014-01-14  92.59  91.51  92.88  91.50    0.86%  0.129180     0.483143   \n",
            "3 2014-01-15  94.17  92.65  94.64  92.43    1.71%  0.140492     0.497020   \n",
            "4 2014-01-16  93.96  94.29  94.64  93.60   -0.22%  0.084496     0.465196   \n",
            "\n",
            "   Realized_Volatility  Moving_Avg_7  RSI_14  \n",
            "0             0.058984           NaN     NaN  \n",
            "1             0.035325           NaN     NaN  \n",
            "2             0.035938           NaN     NaN  \n",
            "3             0.046504           NaN     NaN  \n",
            "4             0.046710           NaN     NaN  \n"
          ]
        }
      ]
    },
    {
      "cell_type": "code",
      "source": [
        "# Drop rows with NaN values caused by rolling calculations\n",
        "data = data.dropna(subset=['RSI_14', 'Moving_Avg_7']).reset_index(drop=True)\n",
        "\n",
        "# Check the resulting dataset\n",
        "print(data.head())\n"
      ],
      "metadata": {
        "colab": {
          "base_uri": "https://localhost:8080/"
        },
        "id": "hgnwcvgsS6ZJ",
        "outputId": "655ae55a-7906-4cb8-951e-c105f4b17934"
      },
      "execution_count": 31,
      "outputs": [
        {
          "output_type": "stream",
          "name": "stdout",
          "text": [
            "        Date  Price   Open   High    Low Change %    Volume  Log_Returns  \\\n",
            "0 2014-01-29  97.36  97.17  97.75  96.32   -0.05%  0.104662     0.468053   \n",
            "1 2014-01-30  98.23  97.42  98.59  97.33    0.89%  0.104051     0.483687   \n",
            "2 2014-01-31  97.49  97.97  98.39  97.10   -0.75%  0.134879     0.456341   \n",
            "3 2014-02-03  96.43  97.40  97.94  96.26   -1.09%  0.157612     0.450741   \n",
            "4 2014-02-04  97.19  96.53  97.82  96.37    0.79%  0.106824     0.481950   \n",
            "\n",
            "   Realized_Volatility  Moving_Avg_7    RSI_14  \n",
            "0             0.043139      0.774725  0.748484  \n",
            "1             0.042255      0.779125  0.772899  \n",
            "2             0.037536      0.780157  0.785792  \n",
            "3             0.040689      0.778949  0.690880  \n",
            "4             0.041454      0.779696  0.662161  \n"
          ]
        }
      ]
    },
    {
      "cell_type": "code",
      "source": [
        "# Confirm no missing values remain in critical columns\n",
        "print(data.isnull().sum())"
      ],
      "metadata": {
        "colab": {
          "base_uri": "https://localhost:8080/"
        },
        "id": "TnJ5B1sLS-Pi",
        "outputId": "d2cf7381-81de-4b0d-a65a-8c9fac02f502"
      },
      "execution_count": 32,
      "outputs": [
        {
          "output_type": "stream",
          "name": "stdout",
          "text": [
            "Date                     0\n",
            "Price                    0\n",
            "Open                     0\n",
            "High                     0\n",
            "Low                      0\n",
            "Change %                 0\n",
            "Volume                 125\n",
            "Log_Returns              0\n",
            "Realized_Volatility      0\n",
            "Moving_Avg_7             0\n",
            "RSI_14                   0\n",
            "dtype: int64\n"
          ]
        }
      ]
    },
    {
      "cell_type": "code",
      "source": [
        "# Drop rows where Volume is NaN\n",
        "data = data.dropna(subset=['Volume']).reset_index(drop=True)\n",
        "# Check for missing values in the dataset\n",
        "print(data.isnull().sum())\n",
        "\n",
        "# Verify the size of the dataset after dropping rows\n",
        "print(f\"Dataset size after dropping rows: {len(data)} rows\")"
      ],
      "metadata": {
        "colab": {
          "base_uri": "https://localhost:8080/"
        },
        "id": "eag5wAWTT0O9",
        "outputId": "1667336d-83ca-4380-a8fa-c935d1632761"
      },
      "execution_count": 34,
      "outputs": [
        {
          "output_type": "stream",
          "name": "stdout",
          "text": [
            "Date                   0\n",
            "Price                  0\n",
            "Open                   0\n",
            "High                   0\n",
            "Low                    0\n",
            "Change %               0\n",
            "Volume                 0\n",
            "Log_Returns            0\n",
            "Realized_Volatility    0\n",
            "Moving_Avg_7           0\n",
            "RSI_14                 0\n",
            "dtype: int64\n",
            "Dataset size after dropping rows: 2732 rows\n"
          ]
        }
      ]
    },
    {
      "cell_type": "code",
      "source": [
        "#f rows are dropped, the indices may no longer reflect continuous dates. To maintain continuity:\n",
        "data = data.sort_values(by='Date').reset_index(drop=True)"
      ],
      "metadata": {
        "id": "aCkM8h30UhLL"
      },
      "execution_count": 35,
      "outputs": []
    },
    {
      "cell_type": "code",
      "source": [
        "print(data.head())"
      ],
      "metadata": {
        "colab": {
          "base_uri": "https://localhost:8080/"
        },
        "id": "qdWI4QVHUttc",
        "outputId": "a1c0db57-fd09-408b-e822-762dca7d716e"
      },
      "execution_count": 36,
      "outputs": [
        {
          "output_type": "stream",
          "name": "stdout",
          "text": [
            "        Date  Price   Open   High    Low Change %    Volume  Log_Returns  \\\n",
            "0 2014-01-29  97.36  97.17  97.75  96.32   -0.05%  0.104662     0.468053   \n",
            "1 2014-01-30  98.23  97.42  98.59  97.33    0.89%  0.104051     0.483687   \n",
            "2 2014-01-31  97.49  97.97  98.39  97.10   -0.75%  0.134879     0.456341   \n",
            "3 2014-02-03  96.43  97.40  97.94  96.26   -1.09%  0.157612     0.450741   \n",
            "4 2014-02-04  97.19  96.53  97.82  96.37    0.79%  0.106824     0.481950   \n",
            "\n",
            "   Realized_Volatility  Moving_Avg_7    RSI_14  \n",
            "0             0.043139      0.774725  0.748484  \n",
            "1             0.042255      0.779125  0.772899  \n",
            "2             0.037536      0.780157  0.785792  \n",
            "3             0.040689      0.778949  0.690880  \n",
            "4             0.041454      0.779696  0.662161  \n"
          ]
        }
      ]
    },
    {
      "cell_type": "code",
      "source": [
        "# Export the updated DataFrame to a CSV file\n",
        "output_file_path = \"/content/processed_oil_data.csv\"  # Update path as needed\n",
        "data.to_csv(output_file_path, index=False)\n",
        "\n",
        "print(f\"DataFrame exported to {output_file_path}\")\n"
      ],
      "metadata": {
        "colab": {
          "base_uri": "https://localhost:8080/"
        },
        "id": "lNg_5kgkWxzj",
        "outputId": "4dc6cd9d-6251-4929-eac8-10909d303fe2"
      },
      "execution_count": 37,
      "outputs": [
        {
          "output_type": "stream",
          "name": "stdout",
          "text": [
            "DataFrame exported to /content/processed_oil_data.csv\n"
          ]
        }
      ]
    },
    {
      "cell_type": "code",
      "source": [
        "# Verify the exported file\n",
        "imported_data = pd.read_csv(output_file_path)\n",
        "print(imported_data.head())\n"
      ],
      "metadata": {
        "colab": {
          "base_uri": "https://localhost:8080/"
        },
        "id": "xNsm4WrKW0qH",
        "outputId": "f9562ac3-5589-4e7b-d74a-b5fcc63efde6"
      },
      "execution_count": 38,
      "outputs": [
        {
          "output_type": "stream",
          "name": "stdout",
          "text": [
            "         Date  Price   Open   High    Low Change %    Volume  Log_Returns  \\\n",
            "0  2014-01-29  97.36  97.17  97.75  96.32   -0.05%  0.104662     0.468053   \n",
            "1  2014-01-30  98.23  97.42  98.59  97.33    0.89%  0.104051     0.483687   \n",
            "2  2014-01-31  97.49  97.97  98.39  97.10   -0.75%  0.134879     0.456341   \n",
            "3  2014-02-03  96.43  97.40  97.94  96.26   -1.09%  0.157612     0.450741   \n",
            "4  2014-02-04  97.19  96.53  97.82  96.37    0.79%  0.106824     0.481950   \n",
            "\n",
            "   Realized_Volatility  Moving_Avg_7    RSI_14  \n",
            "0             0.043139      0.774725  0.748484  \n",
            "1             0.042255      0.779125  0.772899  \n",
            "2             0.037536      0.780157  0.785792  \n",
            "3             0.040689      0.778949  0.690880  \n",
            "4             0.041454      0.779696  0.662161  \n"
          ]
        }
      ]
    }
  ]
}